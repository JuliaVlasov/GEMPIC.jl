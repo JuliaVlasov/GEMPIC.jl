{
 "cells": [
  {
   "cell_type": "code",
   "execution_count": 1,
   "metadata": {},
   "outputs": [
    {
     "name": "stderr",
     "output_type": "stream",
     "text": [
      "┌ Info: Precompiling BayesianTools [196d93e9-2b0a-59bc-85dd-07b4a30d24dc]\n",
      "└ @ Base loading.jl:1186\n",
      "WARNING: could not import Base.start into ProductDistributions\n",
      "WARNING: could not import Base.next into ProductDistributions\n",
      "WARNING: could not import Base.done into ProductDistributions\n"
     ]
    },
    {
     "data": {
      "text/plain": [
       "2"
      ]
     },
     "execution_count": 1,
     "metadata": {},
     "output_type": "execute_result"
    }
   ],
   "source": [
    "using BayesianTools.ProductDistributions\n",
    "p = ProductDistribution(Normal(0,1), Beta(1.,1.))\n",
    "n = length(p) ## 2 -> Number of distributions in the product"
   ]
  },
  {
   "cell_type": "code",
   "execution_count": 7,
   "metadata": {},
   "outputs": [
    {
     "data": {
      "text/plain": [
       "2×100 Array{Float64,2}:\n",
       " -0.17021   -0.331844  -0.724829  -0.304572  …  -0.573888  0.264385  0.249806\n",
       "  0.958178   0.933858   0.148761   0.514265      0.528566  0.504538  0.662535"
      ]
     },
     "execution_count": 7,
     "metadata": {},
     "output_type": "execute_result"
    }
   ],
   "source": [
    "using Random\n",
    "rand!(p, zeros(Float64,(2,100)))"
   ]
  },
  {
   "cell_type": "code",
   "execution_count": 10,
   "metadata": {},
   "outputs": [
    {
     "data": {
      "text/plain": [
       "mcmc_wrong (generic function with 1 method)"
      ]
     },
     "execution_count": 10,
     "metadata": {},
     "output_type": "execute_result"
    }
   ],
   "source": [
    "using BayesianTools.Links\n",
    "function mcmc_wrong(iters)\n",
    "   chain = zeros(Float64, iters)\n",
    "   gamma = Gamma(2, 1)\n",
    "   d = Improper(0, +Inf)\n",
    "   lx  = 1.0\n",
    "   for i in 1:iters\n",
    "      xs = link(d, lx) + randn()\n",
    "      lxs = invlink(d, xs)\n",
    "      a = logpdf(gamma, lxs)-logpdf(gamma, lx)       \n",
    "      (rand() < exp(a)) && (lx = lxs)\n",
    "      chain[i] = lx\n",
    "   end\n",
    "   return chain\n",
    "end"
   ]
  },
  {
   "cell_type": "code",
   "execution_count": 11,
   "metadata": {},
   "outputs": [
    {
     "data": {
      "text/plain": [
       "mcmc_right (generic function with 1 method)"
      ]
     },
     "execution_count": 11,
     "metadata": {},
     "output_type": "execute_result"
    }
   ],
   "source": [
    "function mcmc_right(iters)\n",
    "   chain = zeros(Float64,iters)\n",
    "   gamma = Gamma(2, 1)\n",
    "   d = Improper(0, +Inf)\n",
    "   lx  = 1.0\n",
    "   for i in 1:iters\n",
    "      xs = link(d, lx) + randn()\n",
    "      lxs = invlink(d, xs)\n",
    "      a = logpdf(gamma, lxs)-logpdf(gamma, lx)\n",
    "      ## Log absolute jacobian adjustment\n",
    "      a = a - logjacobian(d, lxs) + logjacobian(d, lx)\n",
    "      (rand() < exp(a)) && (lx = lxs)\n",
    "      chain[i] = lx\n",
    "   end\n",
    "   return chain\n",
    "end"
   ]
  },
  {
   "cell_type": "code",
   "execution_count": 12,
   "metadata": {},
   "outputs": [
    {
     "name": "stderr",
     "output_type": "stream",
     "text": [
      "┌ Info: Recompiling stale cache file /Users/navaro/.julia/compiled/v1.1/Plots/ld3vC.ji for Plots [91a5bcdd-55d7-5caf-9e0b-520d859cae80]\n",
      "└ @ Base loading.jl:1184\n"
     ]
    },
    {
     "ename": "LoadError",
     "evalue": "syntax: extra token \")\" after end of expression",
     "output_type": "error",
     "traceback": [
      "syntax: extra token \")\" after end of expression",
      ""
     ]
    }
   ],
   "source": [
    "Plots.histogram([mc0, mc1], normalize=true, bins = 100, fill=:slategray, layout = (1,2), lab = \"draws\")\n",
    "\n"
   ]
  },
  {
   "cell_type": "code",
   "execution_count": null,
   "metadata": {},
   "outputs": [],
   "source": []
  }
 ],
 "metadata": {
  "kernelspec": {
   "display_name": "Julia 1.1.0",
   "language": "julia",
   "name": "julia-1.1"
  },
  "language_info": {
   "file_extension": ".jl",
   "mimetype": "application/julia",
   "name": "julia",
   "version": "1.1.0"
  }
 },
 "nbformat": 4,
 "nbformat_minor": 2
}
