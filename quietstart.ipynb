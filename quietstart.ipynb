{
 "cells": [
  {
   "cell_type": "code",
   "execution_count": 1,
   "metadata": {},
   "outputs": [
    {
     "data": {
      "text/plain": [
       "bit_reversing (generic function with 1 method)"
      ]
     },
     "execution_count": 1,
     "metadata": {},
     "output_type": "execute_result"
    }
   ],
   "source": [
    "function bit_reversing( n :: Int64 ) :: Float64\n",
    "    \n",
    "    k = 25        :: Int64\n",
    "    miroir = 0.0  :: Float64\n",
    "    deci = n      :: Int64\n",
    "    \n",
    "    if (deci > 33554432)\n",
    "       throw(ArgumentError(\" n = $n is too big > 33554432=2^25\"))\n",
    "    else\n",
    "       while (k >= 0)\n",
    "          div = 2^k\n",
    "          if (deci/div == 1)\n",
    "             miroir += 2.0^(-k-1)\n",
    "             deci = deci - div\n",
    "          end\n",
    "          k = k-1\n",
    "       end\n",
    "    end\n",
    "    \n",
    "    miroir\n",
    "\n",
    "end"
   ]
  },
  {
   "cell_type": "code",
   "execution_count": 2,
   "metadata": {},
   "outputs": [
    {
     "data": {
      "text/plain": [
       "trinary_reversing (generic function with 1 method)"
      ]
     },
     "execution_count": 2,
     "metadata": {},
     "output_type": "execute_result"
    }
   ],
   "source": [
    "function trinary_reversing( n :: Int64 ) :: Float64\n",
    "\n",
    "    k = 16 :: Int64\n",
    "    miroir = 0.0 :: Float64\n",
    "    deci = n :: Int64\n",
    "    \n",
    "    if (deci > 43046721)\n",
    "       throw(ArgumentError(\" n = $n is too big > 43046721=3^16 \"))\n",
    "    else\n",
    "       while (k >= 0)\n",
    "          div = 3^k\n",
    "          if (deci/div == 1)\n",
    "             miroir += 3.0^(-k-1)\n",
    "             deci = deci - div\n",
    "          elseif (deci/div == 2)\n",
    "             miroir += 2 * 3.0^(-k-1)\n",
    "             deci = deci - 2 * div\n",
    "          end\n",
    "          k = k-1\n",
    "       end\n",
    "    end\n",
    "    \n",
    "    miroir\n",
    "\n",
    "end"
   ]
  },
  {
   "cell_type": "code",
   "execution_count": 3,
   "metadata": {},
   "outputs": [
    {
     "data": {
      "text/plain": [
       "penta_reversing (generic function with 1 method)"
      ]
     },
     "execution_count": 3,
     "metadata": {},
     "output_type": "execute_result"
    }
   ],
   "source": [
    "function penta_reversing( n :: Int64 ) :: Float64\n",
    "\n",
    "    k = 11 :: Int64\n",
    "    miroir = 0.0 :: Float64\n",
    "    deci = n :: Int64\n",
    "    \n",
    "    if (deci > 48828125) then\n",
    "       throw(ArgumentError(\" n = $n is too big > 48828125=5^11 \"))\n",
    "    else\n",
    "       while (k >= 0)\n",
    "          div = 5^k\n",
    "          if (deci/div == 1) \n",
    "             miroir +=  5.0^(-k-1)\n",
    "             deci = deci - div\n",
    "          elseif (deci/div == 2) \n",
    "             miroir +=  2 * 5.0^(-k-1)\n",
    "             deci = deci - 2 * div\n",
    "          elseif (deci/div == 3) \n",
    "             miroir +=  3.0^(-k-1)\n",
    "             deci = deci - 3 * div\n",
    "          elseif (deci/div == 4) \n",
    "             miroir += 4 * 5.0^(-k-1)\n",
    "             deci = deci - 4 * div\n",
    "          end\n",
    "          k = k-1\n",
    "       end\n",
    "    end\n",
    "    \n",
    "    miroir\n",
    "\n",
    "end"
   ]
  },
  {
   "cell_type": "code",
   "execution_count": 4,
   "metadata": {},
   "outputs": [
    {
     "data": {
      "text/plain": [
       "dichotomie_x! (generic function with 1 method)"
      ]
     },
     "execution_count": 4,
     "metadata": {},
     "output_type": "execute_result"
    }
   ],
   "source": [
    "\"\"\"\n",
    "with D(a)<R<D(b), solve R=D(x)\n",
    "\"\"\"\n",
    "\n",
    "function dichotomie_x!( a, b, R, eps )\n",
    "\n",
    "    alpha = 0.1\n",
    "    kx = 0.5\n",
    "    D = ( kx*a + alpha * sin(kx*a) ) / (2π)\n",
    "    while ( D<R-eps || D>R+eps )\n",
    "       x = 0.5 * (a+b)\n",
    "       D = ( kx*x + alpha * sin(kx*x) ) / (2π)\n",
    "       if ( D<R-eps )\n",
    "          a = x\n",
    "       elseif ( D>R+eps )\n",
    "          b = x\n",
    "       else\n",
    "          a = x\n",
    "       end\n",
    "    end\n",
    "\n",
    "end "
   ]
  },
  {
   "cell_type": "code",
   "execution_count": null,
   "metadata": {},
   "outputs": [],
   "source": [
    "function plasma!( x :: Vector{Float64}, v :: Vector{Float64})\n",
    "\n",
    "   nx, nv = length(x), length(v)\n",
    "    \n",
    "   Lx = x[end]-x[1]\n",
    "   eps    = 1e-12 :: Float64\n",
    "   vth    =  1.0 :: Float64\n",
    "   nbpart = 100*nx :: Int64\n",
    "\n",
    "   xp = zeros(Float64,nbpart)\n",
    "   vp = zeros(Float64,nbpart)\n",
    "\n",
    "   for k=0:nbpart-1\n",
    "\n",
    "      speed = vth * sqrt(-2 * log( (k+0.5)/nbpart))\n",
    "\n",
    "      a = x[1]\n",
    "      b = x[end]\n",
    "      R = bit_reversing( k )\n",
    "      dichotomie_x!(a, b, R, eps)\n",
    "        \n",
    "      xp[k+1] = a\n",
    "      vp[k+1] = speed * trinary_reversing( k )\n",
    "\n",
    "   end\n",
    "\n",
    "   xp, vp\n",
    "    \n",
    "end"
   ]
  },
  {
   "cell_type": "code",
   "execution_count": null,
   "metadata": {},
   "outputs": [],
   "source": [
    "plasma!( zeros(64), zeros(128))"
   ]
  },
  {
   "cell_type": "code",
   "execution_count": null,
   "metadata": {},
   "outputs": [],
   "source": []
  },
  {
   "cell_type": "code",
   "execution_count": null,
   "metadata": {},
   "outputs": [],
   "source": []
  }
 ],
 "metadata": {
  "kernelspec": {
   "display_name": "Julia 1.1.0",
   "language": "julia",
   "name": "julia-1.1"
  },
  "language_info": {
   "file_extension": ".jl",
   "mimetype": "application/julia",
   "name": "julia",
   "version": "1.1.0"
  }
 },
 "nbformat": 4,
 "nbformat_minor": 2
}
